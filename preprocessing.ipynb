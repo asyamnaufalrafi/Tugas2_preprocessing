{
  "nbformat": 4,
  "nbformat_minor": 0,
  "metadata": {
    "colab": {
      "provenance": []
    },
    "kernelspec": {
      "name": "python3",
      "display_name": "Python 3"
    },
    "language_info": {
      "name": "python"
    }
  },
  "cells": [
    {
      "cell_type": "code",
      "execution_count": 1,
      "metadata": {
        "id": "WrrgtHjai6xy"
      },
      "outputs": [],
      "source": [
        "import numpy as np\n",
        "import matplotlib.pyplot as plt\n",
        "import pandas as pd"
      ]
    },
    {
      "cell_type": "markdown",
      "source": [
        "Numpy digunakan untuk komputasi matriks\n",
        "Matplotlib digunakan untuk presentasi data berupa grafik atau plot."
      ],
      "metadata": {
        "id": "lhKY83rdj65d"
      }
    },
    {
      "cell_type": "code",
      "source": [
        "dataset = pd.read_csv('Data.csv')\n",
        "x = dataset.iloc[:, :-1].values\n",
        "y = dataset.iloc[:, -1].values"
      ],
      "metadata": {
        "id": "IL85bQKrkS_h"
      },
      "execution_count": 8,
      "outputs": []
    },
    {
      "cell_type": "code",
      "source": [
        "print(x)"
      ],
      "metadata": {
        "colab": {
          "base_uri": "https://localhost:8080/"
        },
        "id": "bpeRgzo9l6KN",
        "outputId": "1b6fe38d-2d99-4cbd-ac94-e41f21e2b60d"
      },
      "execution_count": 6,
      "outputs": [
        {
          "output_type": "stream",
          "name": "stdout",
          "text": [
            "[]\n"
          ]
        }
      ]
    },
    {
      "cell_type": "code",
      "source": [
        "print(y)"
      ],
      "metadata": {
        "colab": {
          "base_uri": "https://localhost:8080/"
        },
        "id": "n3s0P7OxnYGN",
        "outputId": "db21185b-6c65-4f4f-cc8c-493fc3eb1abf"
      },
      "execution_count": 5,
      "outputs": [
        {
          "output_type": "stream",
          "name": "stdout",
          "text": [
            "['Jakarta Pusat;44;44;100' 'Jakarta Utara;31;31;100'\n",
            " 'Jakarta Barat;56;56;100' 'Jakarta Selatan;65;66;101.5'\n",
            " 'Jakarta Timur;65;65;100' 'Kep. Seribu;6;6;100']\n"
          ]
        }
      ]
    }
  ]
}